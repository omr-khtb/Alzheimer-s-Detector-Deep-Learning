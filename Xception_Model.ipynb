{
  "nbformat": 4,
  "nbformat_minor": 0,
  "metadata": {
    "colab": {
      "provenance": [],
      "gpuType": "T4"
    },
    "kernelspec": {
      "name": "python3",
      "display_name": "Python 3"
    },
    "language_info": {
      "name": "python"
    },
    "accelerator": "GPU"
  },
  "cells": [
    {
      "cell_type": "code",
      "execution_count": 2,
      "metadata": {
        "id": "vU_CkRRqnQ23"
      },
      "outputs": [],
      "source": [
        "import pathlib\n",
        "import tensorflow as tf\n",
        "from tensorflow.keras.applications import Xception\n",
        "from tensorflow.keras.models import Sequential\n",
        "from tensorflow.keras.layers import Dense, Flatten\n",
        "\n",
        "from tensorflow.keras.models import Model\n",
        "from tensorflow.keras.layers import Dense, Dropout, GlobalAveragePooling2D\n",
        "from tensorflow.keras.preprocessing.image import ImageDataGenerator\n",
        "from tensorflow.keras.optimizers import Adam\n",
        "from tensorflow.keras.callbacks import ModelCheckpoint, EarlyStopping\n",
        "\n",
        "\n",
        "import matplotlib.pyplot as plt\n",
        "import numpy as np\n",
        "import pandas as pd\n",
        "import os\n",
        "import PIL\n",
        "from tensorflow import keras\n",
        "from tensorflow.keras import layers, regularizers\n",
        "from tensorflow.keras.models import Sequential\n",
        "from tensorflow.keras.layers import Rescaling, BatchNormalization\n",
        "import random\n",
        "from glob import glob\n",
        "import seaborn as sns\n",
        "from tensorflow.keras.losses import SparseCategoricalCrossentropy\n",
        "import matplotlib.pyplot as plt\n",
        "import matplotlib.image as img\n",
        "import warnings\n",
        "warnings.filterwarnings('ignore')\n",
        "os.environ['TF_CPP_MIN_LOG_LEVEL'] = '3'\n",
        "tf.compat.v1.logging.set_verbosity(tf.compat.v1.logging.ERROR)\n",
        "import os\n",
        "import cv2\n",
        "import numpy as np\n",
        "from sklearn.model_selection import train_test_split\n",
        "from sklearn.preprocessing import LabelEncoder\n"
      ]
    },
    {
      "cell_type": "code",
      "source": [
        "!kaggle datasets download -d tourist55/alzheimers-dataset-4-class-of-images"
      ],
      "metadata": {
        "colab": {
          "base_uri": "https://localhost:8080/"
        },
        "id": "k87nv0synY0P",
        "outputId": "4f2adf4b-06fc-42ee-d741-e17f92f89f71"
      },
      "execution_count": 1,
      "outputs": [
        {
          "output_type": "stream",
          "name": "stdout",
          "text": [
            "Dataset URL: https://www.kaggle.com/datasets/tourist55/alzheimers-dataset-4-class-of-images\n",
            "License(s): ODbL-1.0\n",
            "Downloading alzheimers-dataset-4-class-of-images.zip to /content\n",
            "100% 34.0M/34.1M [00:02<00:00, 22.8MB/s]\n",
            "100% 34.1M/34.1M [00:02<00:00, 13.5MB/s]\n"
          ]
        }
      ]
    },
    {
      "cell_type": "code",
      "source": [
        "from zipfile import ZipFile\n",
        "\n",
        "# Specify the path of the zip file\n",
        "zip_path = '/content/alzheimers-dataset-4-class-of-images.zip'\n",
        "\n",
        "# Unzip the dataset\n",
        "with ZipFile(zip_path, 'r') as zip_ref:\n",
        "    zip_ref.extractall('/content/alzahimer')"
      ],
      "metadata": {
        "id": "NkM55SOYnZaz"
      },
      "execution_count": 3,
      "outputs": []
    },
    {
      "cell_type": "code",
      "source": [
        "import os\n",
        "\n",
        "# Check the contents of the unzipped dataset directory\n",
        "extracted_folder = '/content/alzahimer'\n",
        "print(\"Contents of the extracted folder:\", os.listdir(extracted_folder))\n"
      ],
      "metadata": {
        "colab": {
          "base_uri": "https://localhost:8080/"
        },
        "id": "B2dU31V1nZdX",
        "outputId": "52864e0d-4948-49a4-df4d-17723187b6f7"
      },
      "execution_count": 4,
      "outputs": [
        {
          "output_type": "stream",
          "name": "stdout",
          "text": [
            "Contents of the extracted folder: ['Alzheimer_s Dataset']\n"
          ]
        }
      ]
    },
    {
      "cell_type": "code",
      "source": [
        "batch_size = 32\n",
        "img_height = 150\n",
        "img_width = 150"
      ],
      "metadata": {
        "id": "5kiOtzpznZfO"
      },
      "execution_count": 5,
      "outputs": []
    },
    {
      "cell_type": "code",
      "source": [
        "base_model = Xception(input_shape=(img_height, img_width, 3), include_top=False, weights='imagenet')"
      ],
      "metadata": {
        "id": "2MpWRGsbnZhm",
        "colab": {
          "base_uri": "https://localhost:8080/"
        },
        "outputId": "ab4a84fd-d61d-4bc1-d85f-0a240d318905"
      },
      "execution_count": 6,
      "outputs": [
        {
          "output_type": "stream",
          "name": "stdout",
          "text": [
            "Downloading data from https://storage.googleapis.com/tensorflow/keras-applications/xception/xception_weights_tf_dim_ordering_tf_kernels_notop.h5\n",
            "83683744/83683744 [==============================] - 5s 0us/step\n"
          ]
        }
      ]
    },
    {
      "cell_type": "code",
      "source": [
        "labels = ['NonDemented', 'VeryMildDemented', 'MildDemented', 'ModerateDemented']\n",
        "img_size = 150\n",
        "\n",
        "def get_data(data_dir, labels):\n",
        "    data = []\n",
        "    for label in labels:\n",
        "        path = os.path.join(data_dir, label)\n",
        "        class_num = labels.index(label)\n",
        "        for img in os.listdir(path):\n",
        "            try:\n",
        "                img_arr = cv2.imread(os.path.join(path, img))\n",
        "                resized_arr = cv2.resize(img_arr, (img_size, img_size))  # Reshaping images to preferred size\n",
        "                data.append([resized_arr, class_num])\n",
        "            except Exception as e:\n",
        "                print(e)\n",
        "    return np.array(data, dtype=object)\n"
      ],
      "metadata": {
        "id": "G6iXQ-R4nZkL"
      },
      "execution_count": 7,
      "outputs": []
    },
    {
      "cell_type": "code",
      "source": [
        "train_data_dir = '/content/alzahimer/Alzheimer_s/train'\n",
        "test_data_dir = '/content/alzahimer/Alzheimer_s/test'\n",
        "\n",
        "# Load training data\n",
        "train_data = get_data(train_data_dir, labels)\n",
        "# Load testing data\n",
        "test_data = get_data(test_data_dir, labels)\n"
      ],
      "metadata": {
        "id": "TWRptHakn-5C"
      },
      "execution_count": 10,
      "outputs": []
    },
    {
      "cell_type": "code",
      "source": [
        "x_train = []\n",
        "y_train = []\n",
        "x_test = []\n",
        "y_test = []\n",
        "\n",
        "for feature, label in train_data:\n",
        "    x_train.append(feature)\n",
        "    y_train.append(label)\n",
        "\n",
        "for feature, label in test_data:\n",
        "    x_test.append(feature)\n",
        "    y_test.append(label)\n",
        "\n",
        "# Convert lists to numpy arrays and add channel dimension\n",
        "x_train = np.array(x_train).reshape(-1, img_size, img_size, 3)  # assuming color images with 3 channels\n",
        "x_test = np.array(x_test).reshape(-1, img_size, img_size, 3)  # assuming color images with 3 channels\n"
      ],
      "metadata": {
        "id": "uUgLwJu-nZmQ"
      },
      "execution_count": 11,
      "outputs": []
    },
    {
      "cell_type": "code",
      "source": [
        "x_train = x_train / 255.0\n",
        "x_test = x_test / 255.0\n",
        "\n",
        "# Ensure y_train and y_test are numpy arrays\n",
        "y_train = np.array(y_train)\n",
        "y_test = np.array(y_test)\n"
      ],
      "metadata": {
        "id": "nrwU3T4NnZon"
      },
      "execution_count": 12,
      "outputs": []
    },
    {
      "cell_type": "code",
      "source": [
        "# Check the shapes before splitting\n",
        "print(\"Shapes before train-validation split:\")\n",
        "print(\"x_train shape:\", x_train.shape)\n",
        "print(\"y_train shape:\", y_train.shape)\n",
        "\n",
        "# Train-Validation Split\n",
        "x_train, x_val, y_train, y_val = train_test_split(x_train, y_train, test_size=0.1, random_state=42)\n"
      ],
      "metadata": {
        "colab": {
          "base_uri": "https://localhost:8080/"
        },
        "id": "TEfaM24qnZqr",
        "outputId": "492e15cb-0411-4130-b793-3d30f2b2cd63"
      },
      "execution_count": 13,
      "outputs": [
        {
          "output_type": "stream",
          "name": "stdout",
          "text": [
            "Shapes before train-validation split:\n",
            "x_train shape: (5121, 150, 150, 3)\n",
            "y_train shape: (5121,)\n"
          ]
        }
      ]
    },
    {
      "cell_type": "code",
      "source": [
        "from sklearn.preprocessing import LabelEncoder\n",
        "\n",
        "# Encode labels\n",
        "label_encoder = LabelEncoder()\n",
        "\n",
        "# Fit the label encoder on the training labels and transform both training, validation, and test labels\n",
        "y_train_encoded = label_encoder.fit_transform(y_train)\n",
        "y_val_encoded = label_encoder.transform(y_val)\n",
        "y_test_encoded = label_encoder.transform(y_test)\n",
        "\n",
        "y_train = np.array(y_train_encoded)\n",
        "y_val = np.array(y_val_encoded)\n",
        "y_test = np.array(y_test_encoded)\n",
        "\n",
        "# Optionally, check the shapes after encoding\n",
        "print(\"Shapes after encoding:\")\n",
        "print(\"y_train shape:\", y_train.shape)\n",
        "print(\"y_val shape:\", y_val.shape)\n",
        "print(\"y_test shape:\", y_test.shape)\n"
      ],
      "metadata": {
        "colab": {
          "base_uri": "https://localhost:8080/"
        },
        "id": "Qba37oHTnZta",
        "outputId": "895856aa-4190-44e6-ae80-3a5380edcd3a"
      },
      "execution_count": 14,
      "outputs": [
        {
          "output_type": "stream",
          "name": "stdout",
          "text": [
            "Shapes after encoding:\n",
            "y_train shape: (4608,)\n",
            "y_val shape: (513,)\n",
            "y_test shape: (1279,)\n"
          ]
        }
      ]
    },
    {
      "cell_type": "code",
      "source": [
        "from tensorflow.keras.regularizers import l2\n",
        "base_model = Xception(input_shape=(img_height, img_width, 3), include_top=False, weights='imagenet')\n",
        "# Add custom top layers\n",
        "x = base_model.output\n",
        "x = GlobalAveragePooling2D()(x)  # Global average pooling layer\n",
        "x = Flatten()(x)  # Necessary Flattening Layer\n",
        "# Add a Dense layer with L2 regularization and Dropout\n",
        "x = Dense(1024, activation='relu', kernel_regularizer=l2(0.01))(x)  # Fully connected layer with L2 regularization\n",
        "x = Dropout(0.6)(x)\n",
        "predictions = Dense(len(labels), activation='softmax')(x)  # Output layer\n",
        "\n",
        "# Define the model\n",
        "model = Model(inputs=base_model.input, outputs=predictions)\n",
        "\n",
        "# Freeze the layers of the base model (fine-tuning)\n",
        "for layer in base_model.layers[:-15]:\n",
        "    layer.trainable = False\n",
        "for layer in base_model.layers[-15:]:\n",
        "    layer.trainable = True"
      ],
      "metadata": {
        "id": "RJeIyKeUnZvE"
      },
      "execution_count": 15,
      "outputs": []
    },
    {
      "cell_type": "code",
      "source": [
        "# Compile the model\n",
        "model.compile(optimizer=Adam(learning_rate=0.0001), loss='sparse_categorical_crossentropy', metrics=['accuracy'])"
      ],
      "metadata": {
        "id": "cafY4GUbnZxX"
      },
      "execution_count": 16,
      "outputs": []
    },
    {
      "cell_type": "code",
      "source": [
        "# Data augmentation\n",
        "\"\"\"\n",
        "Please remove the comments as you see fit but with the last 5 parameters the training accuracy becomes way lower than validation accuracy\n",
        "as the dataset becomes harder for the model to learn\n",
        "\"\"\"\n",
        "datagen = ImageDataGenerator(\n",
        "        featurewise_center=False,  # set input mean to 0 over the dataset\n",
        "        samplewise_center=False,  # set each sample mean to 0\n",
        "        featurewise_std_normalization=False,  # divide inputs by std of the dataset\n",
        "        samplewise_std_normalization=False,  # divide each input by its std\n",
        "        zca_whitening=False,  # apply ZCA whitening\n",
        "        rotation_range = 30,  # randomly rotate images in the range (degrees, 0 to 180)\n",
        "        # zoom_range = 0.2, # Randomly zoom image\n",
        "        # width_shift_range=0.1,  # randomly shift images horizontally (fraction of total width)\n",
        "        # height_shift_range=0.1,  # randomly shift images vertically (fraction of total height)\n",
        "        # horizontal_flip = True,  # randomly flip images\n",
        "        # vertical_flip=False # randomly flip images\n",
        "        width_shift_range=0.2,\n",
        "        height_shift_range=0.2,\n",
        "        shear_range=0.2,\n",
        "        zoom_range=0.2,\n",
        "        horizontal_flip=True,\n",
        "        fill_mode='nearest',\n",
        "        )\n",
        "\n",
        "\n",
        "datagen.fit(x_train)"
      ],
      "metadata": {
        "id": "gOyVeVhrnZ0v"
      },
      "execution_count": 17,
      "outputs": []
    },
    {
      "cell_type": "code",
      "source": [
        "from tensorflow.keras.callbacks import EarlyStopping, ReduceLROnPlateau\n",
        "# Additional callbacks\n",
        "reduce_lr = ReduceLROnPlateau(monitor='val_loss', factor=0.001, patience=10, min_lr=1e-7, verbose=1)\n",
        "early_stopping = EarlyStopping(monitor='val_loss', patience=10, verbose=1, restore_best_weights=True)\n",
        "model_checkpoint = ModelCheckpoint('best_Xception_model.h5', monitor='val_loss', save_best_only=True, verbose=1)\n",
        "\n",
        "batch_size = 32\n",
        "epochs = 15\n",
        "\n",
        "# Fit the model with the defined callbacks\n",
        "history = model.fit(datagen.flow(x_train, y_train, batch_size=batch_size),\n",
        "                    steps_per_epoch=len(x_train) // batch_size,\n",
        "                    validation_data=(x_val, y_val),\n",
        "                    callbacks=[reduce_lr, early_stopping, model_checkpoint],\n",
        "                    epochs=epochs)"
      ],
      "metadata": {
        "colab": {
          "base_uri": "https://localhost:8080/"
        },
        "id": "7aBbyaIwokh7",
        "outputId": "5d8f2125-f3dc-4137-ce2e-1c32230d31da"
      },
      "execution_count": 18,
      "outputs": [
        {
          "output_type": "stream",
          "name": "stdout",
          "text": [
            "Epoch 1/15\n",
            "144/144 [==============================] - ETA: 0s - loss: 11.4068 - accuracy: 0.5250\n",
            "Epoch 1: val_loss improved from inf to 8.60880, saving model to best_Xception_model.h5\n",
            "144/144 [==============================] - 50s 248ms/step - loss: 11.4068 - accuracy: 0.5250 - val_loss: 8.6088 - val_accuracy: 0.5107 - lr: 1.0000e-04\n",
            "Epoch 2/15\n",
            "144/144 [==============================] - ETA: 0s - loss: 6.6809 - accuracy: 0.5814\n",
            "Epoch 2: val_loss improved from 8.60880 to 5.27281, saving model to best_Xception_model.h5\n",
            "144/144 [==============================] - 31s 217ms/step - loss: 6.6809 - accuracy: 0.5814 - val_loss: 5.2728 - val_accuracy: 0.5926 - lr: 1.0000e-04\n",
            "Epoch 3/15\n",
            "144/144 [==============================] - ETA: 0s - loss: 4.1178 - accuracy: 0.6009\n",
            "Epoch 3: val_loss improved from 5.27281 to 3.25673, saving model to best_Xception_model.h5\n",
            "144/144 [==============================] - 33s 228ms/step - loss: 4.1178 - accuracy: 0.6009 - val_loss: 3.2567 - val_accuracy: 0.6082 - lr: 1.0000e-04\n",
            "Epoch 4/15\n",
            "144/144 [==============================] - ETA: 0s - loss: 2.7241 - accuracy: 0.6050\n",
            "Epoch 4: val_loss improved from 3.25673 to 2.38766, saving model to best_Xception_model.h5\n",
            "144/144 [==============================] - 33s 231ms/step - loss: 2.7241 - accuracy: 0.6050 - val_loss: 2.3877 - val_accuracy: 0.6004 - lr: 1.0000e-04\n",
            "Epoch 5/15\n",
            "144/144 [==============================] - ETA: 0s - loss: 1.9489 - accuracy: 0.6096\n",
            "Epoch 5: val_loss improved from 2.38766 to 1.71147, saving model to best_Xception_model.h5\n",
            "144/144 [==============================] - 32s 221ms/step - loss: 1.9489 - accuracy: 0.6096 - val_loss: 1.7115 - val_accuracy: 0.6004 - lr: 1.0000e-04\n",
            "Epoch 6/15\n",
            "144/144 [==============================] - ETA: 0s - loss: 1.5027 - accuracy: 0.6341\n",
            "Epoch 6: val_loss improved from 1.71147 to 1.39001, saving model to best_Xception_model.h5\n",
            "144/144 [==============================] - 32s 222ms/step - loss: 1.5027 - accuracy: 0.6341 - val_loss: 1.3900 - val_accuracy: 0.6355 - lr: 1.0000e-04\n",
            "Epoch 7/15\n",
            "144/144 [==============================] - ETA: 0s - loss: 1.2089 - accuracy: 0.6515\n",
            "Epoch 7: val_loss improved from 1.39001 to 1.11258, saving model to best_Xception_model.h5\n",
            "144/144 [==============================] - 33s 227ms/step - loss: 1.2089 - accuracy: 0.6515 - val_loss: 1.1126 - val_accuracy: 0.6433 - lr: 1.0000e-04\n",
            "Epoch 8/15\n",
            "144/144 [==============================] - ETA: 0s - loss: 1.0539 - accuracy: 0.6556\n",
            "Epoch 8: val_loss did not improve from 1.11258\n",
            "144/144 [==============================] - 31s 215ms/step - loss: 1.0539 - accuracy: 0.6556 - val_loss: 1.1173 - val_accuracy: 0.5945 - lr: 1.0000e-04\n",
            "Epoch 9/15\n",
            "144/144 [==============================] - ETA: 0s - loss: 0.9310 - accuracy: 0.6793\n",
            "Epoch 9: val_loss improved from 1.11258 to 0.92644, saving model to best_Xception_model.h5\n",
            "144/144 [==============================] - 32s 222ms/step - loss: 0.9310 - accuracy: 0.6793 - val_loss: 0.9264 - val_accuracy: 0.6374 - lr: 1.0000e-04\n",
            "Epoch 10/15\n",
            "144/144 [==============================] - ETA: 0s - loss: 0.8636 - accuracy: 0.6873\n",
            "Epoch 10: val_loss did not improve from 0.92644\n",
            "144/144 [==============================] - 32s 223ms/step - loss: 0.8636 - accuracy: 0.6873 - val_loss: 0.9436 - val_accuracy: 0.6238 - lr: 1.0000e-04\n",
            "Epoch 11/15\n",
            "144/144 [==============================] - ETA: 0s - loss: 0.7887 - accuracy: 0.7020\n",
            "Epoch 11: val_loss improved from 0.92644 to 0.81995, saving model to best_Xception_model.h5\n",
            "144/144 [==============================] - 32s 221ms/step - loss: 0.7887 - accuracy: 0.7020 - val_loss: 0.8200 - val_accuracy: 0.6940 - lr: 1.0000e-04\n",
            "Epoch 12/15\n",
            "144/144 [==============================] - ETA: 0s - loss: 0.7627 - accuracy: 0.6951\n",
            "Epoch 12: val_loss improved from 0.81995 to 0.80420, saving model to best_Xception_model.h5\n",
            "144/144 [==============================] - 32s 225ms/step - loss: 0.7627 - accuracy: 0.6951 - val_loss: 0.8042 - val_accuracy: 0.6745 - lr: 1.0000e-04\n",
            "Epoch 13/15\n",
            "144/144 [==============================] - ETA: 0s - loss: 0.7102 - accuracy: 0.7255\n",
            "Epoch 13: val_loss did not improve from 0.80420\n",
            "144/144 [==============================] - 32s 222ms/step - loss: 0.7102 - accuracy: 0.7255 - val_loss: 1.0044 - val_accuracy: 0.6394 - lr: 1.0000e-04\n",
            "Epoch 14/15\n",
            "144/144 [==============================] - ETA: 0s - loss: 0.6831 - accuracy: 0.7303\n",
            "Epoch 14: val_loss did not improve from 0.80420\n",
            "144/144 [==============================] - 31s 216ms/step - loss: 0.6831 - accuracy: 0.7303 - val_loss: 0.8308 - val_accuracy: 0.6706 - lr: 1.0000e-04\n",
            "Epoch 15/15\n",
            "144/144 [==============================] - ETA: 0s - loss: 0.6635 - accuracy: 0.7335\n",
            "Epoch 15: val_loss did not improve from 0.80420\n",
            "144/144 [==============================] - 32s 219ms/step - loss: 0.6635 - accuracy: 0.7335 - val_loss: 1.0066 - val_accuracy: 0.6101 - lr: 1.0000e-04\n"
          ]
        }
      ]
    },
    {
      "cell_type": "code",
      "source": [
        "acc = history.history['accuracy']\n",
        "val_acc = history.history['val_accuracy']\n",
        "\n",
        "loss = history.history['loss']\n",
        "val_loss = history.history['val_loss']\n",
        "\n",
        "epochs_range = range(epochs)\n",
        "\n",
        "plt.figure(figsize=(8, 8))\n",
        "plt.subplot(1, 2, 1)\n",
        "plt.plot(epochs_range, acc, label='Training Accuracy')\n",
        "plt.plot(epochs_range, val_acc, label='Validation Accuracy')\n",
        "plt.legend(loc='lower right')\n",
        "plt.title('Training and Validation Accuracy')\n",
        "\n",
        "plt.subplot(1, 2, 2)\n",
        "plt.plot(epochs_range, loss, label='Training Loss')\n",
        "plt.plot(epochs_range, val_loss, label='Validation Loss')\n",
        "plt.legend(loc='upper right')\n",
        "plt.title('Training and Validation Loss')\n",
        "plt.show()"
      ],
      "metadata": {
        "colab": {
          "base_uri": "https://localhost:8080/",
          "height": 699
        },
        "id": "q2XeyOIuxnV_",
        "outputId": "70be2056-1db3-4513-8c8c-3022f8a995a6"
      },
      "execution_count": 19,
      "outputs": [
        {
          "output_type": "display_data",
          "data": {
            "text/plain": [
              "<Figure size 800x800 with 2 Axes>"
            ],
            "image/png": "[encoded data removed]"
          },
          "metadata": {}
        }
      ]
    },
    {
      "cell_type": "code",
      "source": [
        "from google.colab import drive\n",
        "drive.mount('/content/drive')"
      ],
      "metadata": {
        "colab": {
          "base_uri": "https://localhost:8080/"
        },
        "id": "ULcNAfxTy7xV",
        "outputId": "0793a2bc-528f-4e09-8b60-e4289087fdb0"
      },
      "execution_count": 20,
      "outputs": [
        {
          "output_type": "stream",
          "name": "stdout",
          "text": [
            "Mounted at /content/drive\n"
          ]
        }
      ]
    },
    {
      "cell_type": "code",
      "source": [
        "# Save the model to Google Drive\n",
        "model_path = '/content/best_Xception_model.h5'\n",
        "model.save(model_path)\n",
        "\n",
        "print(f'Model saved to {model_path}')"
      ],
      "metadata": {
        "colab": {
          "base_uri": "https://localhost:8080/"
        },
        "id": "biIHCT_cyVvl",
        "outputId": "0ce9b4e9-f565-46e8-fab8-a93253be38bf"
      },
      "execution_count": 21,
      "outputs": [
        {
          "output_type": "stream",
          "name": "stdout",
          "text": [
            "Model saved to /content/best_Xception_model.h5\n"
          ]
        }
      ]
    },
    {
      "cell_type": "code",
      "source": [
        "loss, accuracy = model.evaluate(x_test, y_test)\n",
        "print(f\"Validation Accuracy: {accuracy * 100:.2f}%\")"
      ],
      "metadata": {
        "colab": {
          "base_uri": "https://localhost:8080/"
        },
        "id": "hRFHEPm7yhND",
        "outputId": "879ae13b-9e6c-44be-e2c4-729209b22abe"
      },
      "execution_count": 22,
      "outputs": [
        {
          "output_type": "stream",
          "name": "stdout",
          "text": [
            "40/40 [==============================] - 5s 123ms/step - loss: 1.3549 - accuracy: 0.4988\n",
            "Validation Accuracy: 49.88%\n"
          ]
        }
      ]
    },
    {
      "cell_type": "code",
      "source": [
        "from sklearn.metrics import classification_report, accuracy_score\n",
        "\n",
        "# Load the best model\n",
        "best_model = tf.keras.models.load_model('best_Xception_model.h5')\n",
        "\n",
        "# Predict on the test set\n",
        "y_pred = best_model.predict(x_test)\n",
        "y_pred_classes = np.argmax(y_pred, axis=1)\n",
        "\n",
        "# Generate the classification report\n",
        "report = classification_report(y_test, y_pred_classes, target_names=labels)\n",
        "print(report)\n",
        "\n",
        "# Calculate the accuracy\n",
        "accuracy = accuracy_score(y_test, y_pred_classes)\n",
        "print(f\"Test Accuracy: {accuracy * 100:.2f}%\")\n",
        "\n",
        "# If you want to extract and print the precision, recall, and F1-score averages\n",
        "report_dict = classification_report(y_test, y_pred_classes, target_names=labels, output_dict=True)\n",
        "precision = report_dict['weighted avg']['precision']\n",
        "recall = report_dict['weighted avg']['recall']\n",
        "f1_score = report_dict['weighted avg']['f1-score']\n",
        "\n",
        "print(f\"Weighted Precision: {precision * 100:.2f}%\")\n",
        "print(f\"Weighted Recall: {recall * 100:.2f}%\")\n",
        "print(f\"Weighted F1 Score: {f1_score * 100:.2f}%\")\n"
      ],
      "metadata": {
        "colab": {
          "base_uri": "https://localhost:8080/"
        },
        "id": "XsaEIng54I-G",
        "outputId": "a2d53508-aead-444f-ecbc-e38c923f0d69"
      },
      "execution_count": 23,
      "outputs": [
        {
          "output_type": "stream",
          "name": "stdout",
          "text": [
            "40/40 [==============================] - 3s 63ms/step\n",
            "                  precision    recall  f1-score   support\n",
            "\n",
            "     NonDemented       0.92      0.29      0.44       640\n",
            "VeryMildDemented       0.41      0.98      0.58       448\n",
            "    MildDemented       0.92      0.07      0.12       179\n",
            "ModerateDemented       0.50      0.08      0.14        12\n",
            "\n",
            "        accuracy                           0.50      1279\n",
            "       macro avg       0.69      0.36      0.32      1279\n",
            "    weighted avg       0.74      0.50      0.44      1279\n",
            "\n",
            "Test Accuracy: 49.88%\n",
            "Weighted Precision: 73.73%\n",
            "Weighted Recall: 49.88%\n",
            "Weighted F1 Score: 44.40%\n"
          ]
        }
      ]
    },
    {
      "cell_type": "code",
      "source": [
        "import tensorflow as tf\n",
        "print(tf.__version__)"
      ],
      "metadata": {
        "colab": {
          "base_uri": "https://localhost:8080/"
        },
        "id": "-AI2lzif_FXE",
        "outputId": "f1bce722-5c32-44a7-82b8-ce88fdd64231"
      },
      "execution_count": 24,
      "outputs": [
        {
          "output_type": "stream",
          "name": "stdout",
          "text": [
            "2.15.0\n"
          ]
        }
      ]
    }
  ]
}